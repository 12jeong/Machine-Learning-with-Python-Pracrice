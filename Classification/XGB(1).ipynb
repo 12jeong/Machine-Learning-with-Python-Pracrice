{
  "nbformat": 4,
  "nbformat_minor": 0,
  "metadata": {
    "colab": {
      "name": "Untitled0.ipynb",
      "provenance": [],
      "authorship_tag": "ABX9TyP0xjw7Q0iH4j8nqa89rHLr",
      "include_colab_link": true
    },
    "kernelspec": {
      "name": "python3",
      "display_name": "Python 3"
    }
  },
  "cells": [
    {
      "cell_type": "markdown",
      "metadata": {
        "id": "view-in-github",
        "colab_type": "text"
      },
      "source": [
        "<a href=\"https://colab.research.google.com/github/12jeong/Machine-Learning-with-Python-Practice/blob/master/Classification/XGB(1).ipynb\" target=\"_parent\"><img src=\"https://colab.research.google.com/assets/colab-badge.svg\" alt=\"Open In Colab\"/></a>"
      ]
    },
    {
      "cell_type": "markdown",
      "metadata": {
        "id": "Ge8GARq28DHq",
        "colab_type": "text"
      },
      "source": [
        "### XGBoost (eXtra Gradient Boost)\n",
        "\n",
        "파이썬 래퍼 XGBoost와 사이킷런 래퍼 XGBoost의 사용상 차이점을 간략하게 요약한 글입니다\n",
        "\n"
      ]
    },
    {
      "cell_type": "code",
      "metadata": {
        "id": "w17SWVGk7gEl",
        "colab_type": "code",
        "colab": {}
      },
      "source": [
        "import pandas as pd\n",
        "import numpy as np\n",
        "\n",
        "import xgboost as xgb\n",
        "from xgboost import plot_importance"
      ],
      "execution_count": 22,
      "outputs": []
    },
    {
      "cell_type": "code",
      "metadata": {
        "id": "T3jqVUVe7l_Z",
        "colab_type": "code",
        "colab": {
          "base_uri": "https://localhost:8080/",
          "height": 34
        },
        "outputId": "2d183189-b8fa-4073-fc84-e681aa2cb2ac"
      },
      "source": [
        "print(xgb.__version__)"
      ],
      "execution_count": 4,
      "outputs": [
        {
          "output_type": "stream",
          "text": [
            "0.90\n"
          ],
          "name": "stdout"
        }
      ]
    },
    {
      "cell_type": "markdown",
      "metadata": {
        "id": "D-bE8Hk4-zZF",
        "colab_type": "text"
      },
      "source": [
        "예시) 위스콘신 유방암 데이터 세트\n"
      ]
    },
    {
      "cell_type": "code",
      "metadata": {
        "id": "yjKjr1Kg953M",
        "colab_type": "code",
        "colab": {
          "base_uri": "https://localhost:8080/",
          "height": 249
        },
        "outputId": "049ebefb-23b9-4ca7-f2f1-bd35f5605f2d"
      },
      "source": [
        "from sklearn.datasets import load_breast_cancer\n",
        "from sklearn.model_selection import train_test_split\n",
        "import warnings\n",
        "warnings.filterwarnings('ignore')\n",
        "\n",
        "dataset = load_breast_cancer()\n",
        "X_features = dataset.data\n",
        "y_label = dataset.target\n",
        "\n",
        "cancer_df = pd.DataFrame(data=X_features, columns=dataset.feature_names)\n",
        "cancer_df['target'] = y_label\n",
        "cancer_df.head()"
      ],
      "execution_count": 23,
      "outputs": [
        {
          "output_type": "execute_result",
          "data": {
            "text/html": [
              "<div>\n",
              "<style scoped>\n",
              "    .dataframe tbody tr th:only-of-type {\n",
              "        vertical-align: middle;\n",
              "    }\n",
              "\n",
              "    .dataframe tbody tr th {\n",
              "        vertical-align: top;\n",
              "    }\n",
              "\n",
              "    .dataframe thead th {\n",
              "        text-align: right;\n",
              "    }\n",
              "</style>\n",
              "<table border=\"1\" class=\"dataframe\">\n",
              "  <thead>\n",
              "    <tr style=\"text-align: right;\">\n",
              "      <th></th>\n",
              "      <th>mean radius</th>\n",
              "      <th>mean texture</th>\n",
              "      <th>mean perimeter</th>\n",
              "      <th>mean area</th>\n",
              "      <th>mean smoothness</th>\n",
              "      <th>mean compactness</th>\n",
              "      <th>mean concavity</th>\n",
              "      <th>mean concave points</th>\n",
              "      <th>mean symmetry</th>\n",
              "      <th>mean fractal dimension</th>\n",
              "      <th>radius error</th>\n",
              "      <th>texture error</th>\n",
              "      <th>perimeter error</th>\n",
              "      <th>area error</th>\n",
              "      <th>smoothness error</th>\n",
              "      <th>compactness error</th>\n",
              "      <th>concavity error</th>\n",
              "      <th>concave points error</th>\n",
              "      <th>symmetry error</th>\n",
              "      <th>fractal dimension error</th>\n",
              "      <th>worst radius</th>\n",
              "      <th>worst texture</th>\n",
              "      <th>worst perimeter</th>\n",
              "      <th>worst area</th>\n",
              "      <th>worst smoothness</th>\n",
              "      <th>worst compactness</th>\n",
              "      <th>worst concavity</th>\n",
              "      <th>worst concave points</th>\n",
              "      <th>worst symmetry</th>\n",
              "      <th>worst fractal dimension</th>\n",
              "      <th>target</th>\n",
              "    </tr>\n",
              "  </thead>\n",
              "  <tbody>\n",
              "    <tr>\n",
              "      <th>0</th>\n",
              "      <td>17.99</td>\n",
              "      <td>10.38</td>\n",
              "      <td>122.80</td>\n",
              "      <td>1001.0</td>\n",
              "      <td>0.11840</td>\n",
              "      <td>0.27760</td>\n",
              "      <td>0.3001</td>\n",
              "      <td>0.14710</td>\n",
              "      <td>0.2419</td>\n",
              "      <td>0.07871</td>\n",
              "      <td>1.0950</td>\n",
              "      <td>0.9053</td>\n",
              "      <td>8.589</td>\n",
              "      <td>153.40</td>\n",
              "      <td>0.006399</td>\n",
              "      <td>0.04904</td>\n",
              "      <td>0.05373</td>\n",
              "      <td>0.01587</td>\n",
              "      <td>0.03003</td>\n",
              "      <td>0.006193</td>\n",
              "      <td>25.38</td>\n",
              "      <td>17.33</td>\n",
              "      <td>184.60</td>\n",
              "      <td>2019.0</td>\n",
              "      <td>0.1622</td>\n",
              "      <td>0.6656</td>\n",
              "      <td>0.7119</td>\n",
              "      <td>0.2654</td>\n",
              "      <td>0.4601</td>\n",
              "      <td>0.11890</td>\n",
              "      <td>0</td>\n",
              "    </tr>\n",
              "    <tr>\n",
              "      <th>1</th>\n",
              "      <td>20.57</td>\n",
              "      <td>17.77</td>\n",
              "      <td>132.90</td>\n",
              "      <td>1326.0</td>\n",
              "      <td>0.08474</td>\n",
              "      <td>0.07864</td>\n",
              "      <td>0.0869</td>\n",
              "      <td>0.07017</td>\n",
              "      <td>0.1812</td>\n",
              "      <td>0.05667</td>\n",
              "      <td>0.5435</td>\n",
              "      <td>0.7339</td>\n",
              "      <td>3.398</td>\n",
              "      <td>74.08</td>\n",
              "      <td>0.005225</td>\n",
              "      <td>0.01308</td>\n",
              "      <td>0.01860</td>\n",
              "      <td>0.01340</td>\n",
              "      <td>0.01389</td>\n",
              "      <td>0.003532</td>\n",
              "      <td>24.99</td>\n",
              "      <td>23.41</td>\n",
              "      <td>158.80</td>\n",
              "      <td>1956.0</td>\n",
              "      <td>0.1238</td>\n",
              "      <td>0.1866</td>\n",
              "      <td>0.2416</td>\n",
              "      <td>0.1860</td>\n",
              "      <td>0.2750</td>\n",
              "      <td>0.08902</td>\n",
              "      <td>0</td>\n",
              "    </tr>\n",
              "    <tr>\n",
              "      <th>2</th>\n",
              "      <td>19.69</td>\n",
              "      <td>21.25</td>\n",
              "      <td>130.00</td>\n",
              "      <td>1203.0</td>\n",
              "      <td>0.10960</td>\n",
              "      <td>0.15990</td>\n",
              "      <td>0.1974</td>\n",
              "      <td>0.12790</td>\n",
              "      <td>0.2069</td>\n",
              "      <td>0.05999</td>\n",
              "      <td>0.7456</td>\n",
              "      <td>0.7869</td>\n",
              "      <td>4.585</td>\n",
              "      <td>94.03</td>\n",
              "      <td>0.006150</td>\n",
              "      <td>0.04006</td>\n",
              "      <td>0.03832</td>\n",
              "      <td>0.02058</td>\n",
              "      <td>0.02250</td>\n",
              "      <td>0.004571</td>\n",
              "      <td>23.57</td>\n",
              "      <td>25.53</td>\n",
              "      <td>152.50</td>\n",
              "      <td>1709.0</td>\n",
              "      <td>0.1444</td>\n",
              "      <td>0.4245</td>\n",
              "      <td>0.4504</td>\n",
              "      <td>0.2430</td>\n",
              "      <td>0.3613</td>\n",
              "      <td>0.08758</td>\n",
              "      <td>0</td>\n",
              "    </tr>\n",
              "    <tr>\n",
              "      <th>3</th>\n",
              "      <td>11.42</td>\n",
              "      <td>20.38</td>\n",
              "      <td>77.58</td>\n",
              "      <td>386.1</td>\n",
              "      <td>0.14250</td>\n",
              "      <td>0.28390</td>\n",
              "      <td>0.2414</td>\n",
              "      <td>0.10520</td>\n",
              "      <td>0.2597</td>\n",
              "      <td>0.09744</td>\n",
              "      <td>0.4956</td>\n",
              "      <td>1.1560</td>\n",
              "      <td>3.445</td>\n",
              "      <td>27.23</td>\n",
              "      <td>0.009110</td>\n",
              "      <td>0.07458</td>\n",
              "      <td>0.05661</td>\n",
              "      <td>0.01867</td>\n",
              "      <td>0.05963</td>\n",
              "      <td>0.009208</td>\n",
              "      <td>14.91</td>\n",
              "      <td>26.50</td>\n",
              "      <td>98.87</td>\n",
              "      <td>567.7</td>\n",
              "      <td>0.2098</td>\n",
              "      <td>0.8663</td>\n",
              "      <td>0.6869</td>\n",
              "      <td>0.2575</td>\n",
              "      <td>0.6638</td>\n",
              "      <td>0.17300</td>\n",
              "      <td>0</td>\n",
              "    </tr>\n",
              "    <tr>\n",
              "      <th>4</th>\n",
              "      <td>20.29</td>\n",
              "      <td>14.34</td>\n",
              "      <td>135.10</td>\n",
              "      <td>1297.0</td>\n",
              "      <td>0.10030</td>\n",
              "      <td>0.13280</td>\n",
              "      <td>0.1980</td>\n",
              "      <td>0.10430</td>\n",
              "      <td>0.1809</td>\n",
              "      <td>0.05883</td>\n",
              "      <td>0.7572</td>\n",
              "      <td>0.7813</td>\n",
              "      <td>5.438</td>\n",
              "      <td>94.44</td>\n",
              "      <td>0.011490</td>\n",
              "      <td>0.02461</td>\n",
              "      <td>0.05688</td>\n",
              "      <td>0.01885</td>\n",
              "      <td>0.01756</td>\n",
              "      <td>0.005115</td>\n",
              "      <td>22.54</td>\n",
              "      <td>16.67</td>\n",
              "      <td>152.20</td>\n",
              "      <td>1575.0</td>\n",
              "      <td>0.1374</td>\n",
              "      <td>0.2050</td>\n",
              "      <td>0.4000</td>\n",
              "      <td>0.1625</td>\n",
              "      <td>0.2364</td>\n",
              "      <td>0.07678</td>\n",
              "      <td>0</td>\n",
              "    </tr>\n",
              "  </tbody>\n",
              "</table>\n",
              "</div>"
            ],
            "text/plain": [
              "   mean radius  mean texture  ...  worst fractal dimension  target\n",
              "0        17.99         10.38  ...                  0.11890       0\n",
              "1        20.57         17.77  ...                  0.08902       0\n",
              "2        19.69         21.25  ...                  0.08758       0\n",
              "3        11.42         20.38  ...                  0.17300       0\n",
              "4        20.29         14.34  ...                  0.07678       0\n",
              "\n",
              "[5 rows x 31 columns]"
            ]
          },
          "metadata": {
            "tags": []
          },
          "execution_count": 23
        }
      ]
    },
    {
      "cell_type": "markdown",
      "metadata": {
        "id": "NMCYjhVX_llr",
        "colab_type": "text"
      },
      "source": [
        "유방암 종양에 관련된 피쳐들이 있으며, 목표(target) 변수는 악성(maligant)인 경우 y=0, 양성(benign)은 y=1\n"
      ]
    },
    {
      "cell_type": "code",
      "metadata": {
        "id": "G96Sj9CL_X9C",
        "colab_type": "code",
        "colab": {
          "base_uri": "https://localhost:8080/",
          "height": 87
        },
        "outputId": "be0c492f-b828-46e4-f50c-db06ba0d515a"
      },
      "source": [
        "print(dataset.target_names)\n",
        "print(cancer_df['target'].value_counts())"
      ],
      "execution_count": 10,
      "outputs": [
        {
          "output_type": "stream",
          "text": [
            "['malignant' 'benign']\n",
            "1    357\n",
            "0    212\n",
            "Name: target, dtype: int64\n"
          ],
          "name": "stdout"
        }
      ]
    },
    {
      "cell_type": "code",
      "metadata": {
        "id": "-FhPAcoZABMi",
        "colab_type": "code",
        "colab": {
          "base_uri": "https://localhost:8080/",
          "height": 34
        },
        "outputId": "1ef485f6-652f-4331-bd55-61988974b200"
      },
      "source": [
        "# split dataset\n",
        "X_train, X_test, y_train, y_test = train_test_split(X_features, y_label, test_size=0.2, random_state=0)\n",
        "print(X_train.shape, X_test.shape)"
      ],
      "execution_count": 24,
      "outputs": [
        {
          "output_type": "stream",
          "text": [
            "(455, 30) (114, 30)\n"
          ],
          "name": "stdout"
        }
      ]
    },
    {
      "cell_type": "markdown",
      "metadata": {
        "id": "nUOMFHM6Ah64",
        "colab_type": "text"
      },
      "source": [
        "### 1. XGBoost 고유의 프레임워크에서의 사용법 주의점\n",
        "\n",
        "- DMatrix : \"넘파이\" 형태의 XGBoost만의 전용 데이터 세트, data와 label 입력 \n",
        "\n"
      ]
    },
    {
      "cell_type": "code",
      "metadata": {
        "id": "eW1W4d2UALU9",
        "colab_type": "code",
        "colab": {}
      },
      "source": [
        "dtrain = xgb.DMatrix(data=X_train, label=y_train) \n",
        "dtest = xgb.DMatrix(data=X_test, label=y_test)"
      ],
      "execution_count": 25,
      "outputs": []
    },
    {
      "cell_type": "code",
      "metadata": {
        "id": "dHBDUPa0B3jh",
        "colab_type": "code",
        "colab": {}
      },
      "source": [
        "params = {'max_depth':3, \n",
        "          'eta':0.1,                        # XGBClassifier - learning_rate\n",
        "          'objective':'binary:logistic',\n",
        "          'eval_metric':'logloss',\n",
        "          'early_stoppings':100}\n",
        "num_rounds = 400"
      ],
      "execution_count": 26,
      "outputs": []
    },
    {
      "cell_type": "code",
      "metadata": {
        "id": "CjDFSh1WCD6Y",
        "colab_type": "code",
        "colab": {}
      },
      "source": [
        "wlist = [(dtrain,'train'),(dtest,'evel')]\n",
        "## train\n",
        "xgb_model = xgb.train(params=params, dtrain=dtrain, num_boost_round=num_rounds, early_stopping_rounds=100, evals=wlist)"
      ],
      "execution_count": null,
      "outputs": []
    },
    {
      "cell_type": "code",
      "metadata": {
        "id": "WwrJSJu8fXAH",
        "colab_type": "code",
        "colab": {
          "base_uri": "https://localhost:8080/",
          "height": 70
        },
        "outputId": "e136a225-4c9c-4f64-c52b-d38c91447370"
      },
      "source": [
        "## predict\n",
        "pred_probs = xgb_model.predict(dtest)\n",
        "print('예측 확률값')\n",
        "print(np.round(pred_probs[:10],3))\n",
        "\n",
        "preds = [1 if x>0.5 else 0 for x in pred_probs]\n",
        "print(preds[:10])\n"
      ],
      "execution_count": 32,
      "outputs": [
        {
          "output_type": "stream",
          "text": [
            "예측 확률값\n",
            "[0.    0.993 1.    0.999 1.    1.    1.    0.999 0.996 1.   ]\n",
            "[0, 1, 1, 1, 1, 1, 1, 1, 1, 1]\n"
          ],
          "name": "stdout"
        }
      ]
    },
    {
      "cell_type": "code",
      "metadata": {
        "id": "w-07PWpHfuh5",
        "colab_type": "code",
        "colab": {
          "base_uri": "https://localhost:8080/",
          "height": 70
        },
        "outputId": "5088a45a-476b-4444-f4e9-e99f0d1bd011"
      },
      "source": [
        "## evaluation metric\n",
        "from sklearn.metrics import accuracy_score, precision_score, recall_score, confusion_matrix, f1_score, roc_auc_score\n",
        "def get_clf_eval(y_test, pred=None, pred_proba=None):\n",
        "    confusion = confusion_matrix(y_test,pred)\n",
        "    accuracy = accuracy_score(y_test,pred)\n",
        "    precision = precision_score(y_test,pred)\n",
        "    recall = recall_score(y_test,pred)\n",
        "    f1 = f1_score(y_test,pred)\n",
        "\n",
        "    roc_auc = roc_auc_score(y_test,pred_proba)\n",
        "    \n",
        "    print(confusion)\n",
        "    print('accuracy:{0:.4f}, precision:{1:.4f}, recall:{2:.4f}, F1: {3:4f},UC:{4:.4f}'.format(accuracy,precision,recall,f1,roc_auc))\n",
        "\n",
        "get_clf_eval(y_test, preds, pred_probs)"
      ],
      "execution_count": 36,
      "outputs": [
        {
          "output_type": "stream",
          "text": [
            "[[46  1]\n",
            " [ 0 67]]\n",
            "accuracy:0.9912, precision:0.9853, recall:1.0000, F1: 0.992593,UC:0.9990\n"
          ],
          "name": "stdout"
        }
      ]
    },
    {
      "cell_type": "markdown",
      "metadata": {
        "id": "-zLgYUBMlUMp",
        "colab_type": "text"
      },
      "source": [
        "plot_importance() 로 피쳐중요도 시각화 툴을 제공 "
      ]
    },
    {
      "cell_type": "code",
      "metadata": {
        "id": "kADq2Ygghq60",
        "colab_type": "code",
        "colab": {
          "base_uri": "https://localhost:8080/",
          "height": 748
        },
        "outputId": "12196494-f9c9-4c68-f130-fc7fc5088ba4"
      },
      "source": [
        "## visualization - feature importance\n",
        "## based on \"f1-score\"\n",
        "\n",
        "from xgboost import plot_importance\n",
        "import matplotlib.pyplot as plt\n",
        "%matplotlib inline\n",
        "\n",
        "fig, ax = plt.subplots(figsize=(10,12))\n",
        "plot_importance(xgb_model, ax=ax) # numpy 기반, 피쳐명을 알 수 없음. "
      ],
      "execution_count": 37,
      "outputs": [
        {
          "output_type": "execute_result",
          "data": {
            "text/plain": [
              "<matplotlib.axes._subplots.AxesSubplot at 0x7f1455c634a8>"
            ]
          },
          "metadata": {
            "tags": []
          },
          "execution_count": 37
        },
        {
          "output_type": "display_data",
          "data": {
            "image/png": "[encoded data removed]",
            "text/plain": [
              "<Figure size 720x864 with 1 Axes>"
            ]
          },
          "metadata": {
            "tags": [],
            "needs_background": "light"
          }
        }
      ]
    },
    {
      "cell_type": "code",
      "metadata": {
        "id": "GDngaLgPihcR",
        "colab_type": "code",
        "colab": {
          "base_uri": "https://localhost:8080/",
          "height": 446
        },
        "outputId": "840dbe7a-d2d3-4337-deee-36db3c2cad1c"
      },
      "source": [
        "xgb.to_graphviz(xgb_model, num_trees=3)"
      ],
      "execution_count": 50,
      "outputs": [
        {
          "output_type": "execute_result",
          "data": {
            "text/plain": [
              "<graphviz.dot.Digraph at 0x7f1452563438>"
            ],
            "image/svg+xml": "<?xml version=\"1.0\" encoding=\"UTF-8\" standalone=\"no\"?>\n<!DOCTYPE svg PUBLIC \"-//W3C//DTD SVG 1.1//EN\"\n \"http://www.w3.org/Graphics/SVG/1.1/DTD/svg11.dtd\">\n<!-- Generated by graphviz version 2.40.1 (20161225.0304)\n -->\n<!-- Title: %3 Pages: 1 -->\n<svg width=\"1458pt\" height=\"305pt\"\n viewBox=\"0.00 0.00 1457.59 305.00\" xmlns=\"http://www.w3.org/2000/svg\" xmlns:xlink=\"http://www.w3.org/1999/xlink\">\n<g id=\"graph0\" class=\"graph\" transform=\"scale(1 1) rotate(0) translate(4 301)\">\n<title>%3</title>\n<polygon fill=\"#ffffff\" stroke=\"transparent\" points=\"-4,4 -4,-301 1453.5859,-301 1453.5859,4 -4,4\"/>\n<!-- 0 -->\n<g id=\"node1\" class=\"node\">\n<title>0</title>\n<ellipse fill=\"none\" stroke=\"#000000\" cx=\"676.5928\" cy=\"-279\" rx=\"79.8859\" ry=\"18\"/>\n<text text-anchor=\"middle\" x=\"676.5928\" y=\"-275.3\" font-family=\"Times,serif\" font-size=\"14.00\" fill=\"#000000\">f27&lt;0.142349988</text>\n</g>\n<!-- 1 -->\n<g id=\"node2\" class=\"node\">\n<title>1</title>\n<ellipse fill=\"none\" stroke=\"#000000\" cx=\"491.5928\" cy=\"-192\" rx=\"75.2868\" ry=\"18\"/>\n<text text-anchor=\"middle\" x=\"491.5928\" y=\"-188.3\" font-family=\"Times,serif\" font-size=\"14.00\" fill=\"#000000\">f23&lt;957.450012</text>\n</g>\n<!-- 0&#45;&gt;1 -->\n<g id=\"edge1\" class=\"edge\">\n<title>0&#45;&gt;1</title>\n<path fill=\"none\" stroke=\"#0000ff\" d=\"M641.7958,-262.636C611.597,-248.4344 567.7364,-227.808 535.2008,-212.5075\"/>\n<polygon fill=\"#0000ff\" stroke=\"#0000ff\" points=\"536.4597,-209.2319 525.9209,-208.1435 533.4807,-215.5664 536.4597,-209.2319\"/>\n<text text-anchor=\"middle\" x=\"631.0928\" y=\"-231.8\" font-family=\"Times,serif\" font-size=\"14.00\" fill=\"#000000\">yes, missing</text>\n</g>\n<!-- 2 -->\n<g id=\"node3\" class=\"node\">\n<title>2</title>\n<ellipse fill=\"none\" stroke=\"#000000\" cx=\"895.5928\" cy=\"-192\" rx=\"75.2868\" ry=\"18\"/>\n<text text-anchor=\"middle\" x=\"895.5928\" y=\"-188.3\" font-family=\"Times,serif\" font-size=\"14.00\" fill=\"#000000\">f23&lt;729.549988</text>\n</g>\n<!-- 0&#45;&gt;2 -->\n<g id=\"edge2\" class=\"edge\">\n<title>0&#45;&gt;2</title>\n<path fill=\"none\" stroke=\"#ff0000\" d=\"M716.2521,-263.245C752.9551,-248.6643 807.6251,-226.9461 846.9499,-211.3239\"/>\n<polygon fill=\"#ff0000\" stroke=\"#ff0000\" points=\"848.5955,-214.4363 856.5968,-207.4916 846.0111,-207.9308 848.5955,-214.4363\"/>\n<text text-anchor=\"middle\" x=\"807.5928\" y=\"-231.8\" font-family=\"Times,serif\" font-size=\"14.00\" fill=\"#000000\">no</text>\n</g>\n<!-- 3 -->\n<g id=\"node4\" class=\"node\">\n<title>3</title>\n<ellipse fill=\"none\" stroke=\"#000000\" cx=\"264.5928\" cy=\"-105\" rx=\"55.7903\" ry=\"18\"/>\n<text text-anchor=\"middle\" x=\"264.5928\" y=\"-101.3\" font-family=\"Times,serif\" font-size=\"14.00\" fill=\"#000000\">f22&lt;107.75</text>\n</g>\n<!-- 1&#45;&gt;3 -->\n<g id=\"edge3\" class=\"edge\">\n<title>1&#45;&gt;3</title>\n<path fill=\"none\" stroke=\"#0000ff\" d=\"M451.5323,-176.6464C412.0582,-161.5176 351.8148,-138.4287 310.4472,-122.5741\"/>\n<polygon fill=\"#0000ff\" stroke=\"#0000ff\" points=\"311.4727,-119.219 300.8824,-118.9083 308.9675,-125.7554 311.4727,-119.219\"/>\n<text text-anchor=\"middle\" x=\"428.0928\" y=\"-144.8\" font-family=\"Times,serif\" font-size=\"14.00\" fill=\"#000000\">yes, missing</text>\n</g>\n<!-- 4 -->\n<g id=\"node5\" class=\"node\">\n<title>4</title>\n<ellipse fill=\"none\" stroke=\"#000000\" cx=\"491.5928\" cy=\"-105\" rx=\"85.2851\" ry=\"18\"/>\n<text text-anchor=\"middle\" x=\"491.5928\" y=\"-101.3\" font-family=\"Times,serif\" font-size=\"14.00\" fill=\"#000000\">f29&lt;0.0649200007</text>\n</g>\n<!-- 1&#45;&gt;4 -->\n<g id=\"edge4\" class=\"edge\">\n<title>1&#45;&gt;4</title>\n<path fill=\"none\" stroke=\"#ff0000\" d=\"M491.5928,-173.9735C491.5928,-162.1918 491.5928,-146.5607 491.5928,-133.1581\"/>\n<polygon fill=\"#ff0000\" stroke=\"#ff0000\" points=\"495.0929,-133.0033 491.5928,-123.0034 488.0929,-133.0034 495.0929,-133.0033\"/>\n<text text-anchor=\"middle\" x=\"499.5928\" y=\"-144.8\" font-family=\"Times,serif\" font-size=\"14.00\" fill=\"#000000\">no</text>\n</g>\n<!-- 5 -->\n<g id=\"node10\" class=\"node\">\n<title>5</title>\n<ellipse fill=\"none\" stroke=\"#000000\" cx=\"895.5928\" cy=\"-105\" rx=\"50.8918\" ry=\"18\"/>\n<text text-anchor=\"middle\" x=\"895.5928\" y=\"-101.3\" font-family=\"Times,serif\" font-size=\"14.00\" fill=\"#000000\">f4&lt;0.1083</text>\n</g>\n<!-- 2&#45;&gt;5 -->\n<g id=\"edge9\" class=\"edge\">\n<title>2&#45;&gt;5</title>\n<path fill=\"none\" stroke=\"#0000ff\" d=\"M895.5928,-173.9735C895.5928,-162.1918 895.5928,-146.5607 895.5928,-133.1581\"/>\n<polygon fill=\"#0000ff\" stroke=\"#0000ff\" points=\"899.0929,-133.0033 895.5928,-123.0034 892.0929,-133.0034 899.0929,-133.0033\"/>\n<text text-anchor=\"middle\" x=\"931.0928\" y=\"-144.8\" font-family=\"Times,serif\" font-size=\"14.00\" fill=\"#000000\">yes, missing</text>\n</g>\n<!-- 6 -->\n<g id=\"node11\" class=\"node\">\n<title>6</title>\n<ellipse fill=\"none\" stroke=\"#000000\" cx=\"1192.5928\" cy=\"-105\" rx=\"79.8859\" ry=\"18\"/>\n<text text-anchor=\"middle\" x=\"1192.5928\" y=\"-101.3\" font-family=\"Times,serif\" font-size=\"14.00\" fill=\"#000000\">f10&lt;0.241250008</text>\n</g>\n<!-- 2&#45;&gt;6 -->\n<g id=\"edge10\" class=\"edge\">\n<title>2&#45;&gt;6</title>\n<path fill=\"none\" stroke=\"#ff0000\" d=\"M943.311,-178.0219C995.1312,-162.8423 1077.9525,-138.5815 1133.7623,-122.2332\"/>\n<polygon fill=\"#ff0000\" stroke=\"#ff0000\" points=\"1134.8975,-125.5478 1143.5103,-119.3777 1132.9296,-118.8301 1134.8975,-125.5478\"/>\n<text text-anchor=\"middle\" x=\"1070.5928\" y=\"-144.8\" font-family=\"Times,serif\" font-size=\"14.00\" fill=\"#000000\">no</text>\n</g>\n<!-- 7 -->\n<g id=\"node6\" class=\"node\">\n<title>7</title>\n<ellipse fill=\"none\" stroke=\"#000000\" cx=\"80.5928\" cy=\"-18\" rx=\"80.6858\" ry=\"18\"/>\n<text text-anchor=\"middle\" x=\"80.5928\" y=\"-14.3\" font-family=\"Times,serif\" font-size=\"14.00\" fill=\"#000000\">leaf=0.149698541</text>\n</g>\n<!-- 3&#45;&gt;7 -->\n<g id=\"edge5\" class=\"edge\">\n<title>3&#45;&gt;7</title>\n<path fill=\"none\" stroke=\"#0000ff\" d=\"M232.9621,-90.0442C203.0015,-75.878 157.7476,-54.4808 124.3369,-38.6833\"/>\n<polygon fill=\"#0000ff\" stroke=\"#0000ff\" points=\"125.7865,-35.4972 115.25,-34.3868 122.7942,-41.8255 125.7865,-35.4972\"/>\n<text text-anchor=\"middle\" x=\"220.0928\" y=\"-57.8\" font-family=\"Times,serif\" font-size=\"14.00\" fill=\"#000000\">yes, missing</text>\n</g>\n<!-- 8 -->\n<g id=\"node7\" class=\"node\">\n<title>8</title>\n<ellipse fill=\"none\" stroke=\"#000000\" cx=\"264.5928\" cy=\"-18\" rx=\"85.2851\" ry=\"18\"/>\n<text text-anchor=\"middle\" x=\"264.5928\" y=\"-14.3\" font-family=\"Times,serif\" font-size=\"14.00\" fill=\"#000000\">leaf=0.0410093442</text>\n</g>\n<!-- 3&#45;&gt;8 -->\n<g id=\"edge6\" class=\"edge\">\n<title>3&#45;&gt;8</title>\n<path fill=\"none\" stroke=\"#ff0000\" d=\"M264.5928,-86.9735C264.5928,-75.1918 264.5928,-59.5607 264.5928,-46.1581\"/>\n<polygon fill=\"#ff0000\" stroke=\"#ff0000\" points=\"268.0929,-46.0033 264.5928,-36.0034 261.0929,-46.0034 268.0929,-46.0033\"/>\n<text text-anchor=\"middle\" x=\"272.5928\" y=\"-57.8\" font-family=\"Times,serif\" font-size=\"14.00\" fill=\"#000000\">no</text>\n</g>\n<!-- 9 -->\n<g id=\"node8\" class=\"node\">\n<title>9</title>\n<ellipse fill=\"none\" stroke=\"#000000\" cx=\"456.5928\" cy=\"-18\" rx=\"88.2844\" ry=\"18\"/>\n<text text-anchor=\"middle\" x=\"456.5928\" y=\"-14.3\" font-family=\"Times,serif\" font-size=\"14.00\" fill=\"#000000\">leaf=&#45;0.0062616365</text>\n</g>\n<!-- 4&#45;&gt;9 -->\n<g id=\"edge7\" class=\"edge\">\n<title>4&#45;&gt;9</title>\n<path fill=\"none\" stroke=\"#0000ff\" d=\"M484.3408,-86.9735C479.5072,-74.9585 473.063,-58.9401 467.6016,-45.3646\"/>\n<polygon fill=\"#0000ff\" stroke=\"#0000ff\" points=\"470.815,-43.9744 463.8356,-36.0034 464.3208,-46.5871 470.815,-43.9744\"/>\n<text text-anchor=\"middle\" x=\"512.0928\" y=\"-57.8\" font-family=\"Times,serif\" font-size=\"14.00\" fill=\"#000000\">yes, missing</text>\n</g>\n<!-- 10 -->\n<g id=\"node9\" class=\"node\">\n<title>10</title>\n<ellipse fill=\"none\" stroke=\"#000000\" cx=\"646.5928\" cy=\"-18\" rx=\"83.3857\" ry=\"18\"/>\n<text text-anchor=\"middle\" x=\"646.5928\" y=\"-14.3\" font-family=\"Times,serif\" font-size=\"14.00\" fill=\"#000000\">leaf=&#45;0.122061566</text>\n</g>\n<!-- 4&#45;&gt;10 -->\n<g id=\"edge8\" class=\"edge\">\n<title>4&#45;&gt;10</title>\n<path fill=\"none\" stroke=\"#ff0000\" d=\"M521.8464,-88.019C546.2773,-74.3062 580.8375,-54.9079 607.3881,-40.0052\"/>\n<polygon fill=\"#ff0000\" stroke=\"#ff0000\" points=\"609.4085,-42.8849 616.4156,-34.9382 605.9822,-36.7807 609.4085,-42.8849\"/>\n<text text-anchor=\"middle\" x=\"586.5928\" y=\"-57.8\" font-family=\"Times,serif\" font-size=\"14.00\" fill=\"#000000\">no</text>\n</g>\n<!-- 11 -->\n<g id=\"node12\" class=\"node\">\n<title>11</title>\n<ellipse fill=\"none\" stroke=\"#000000\" cx=\"827.5928\" cy=\"-18\" rx=\"79.8859\" ry=\"18\"/>\n<text text-anchor=\"middle\" x=\"827.5928\" y=\"-14.3\" font-family=\"Times,serif\" font-size=\"14.00\" fill=\"#000000\">leaf=0.112102501</text>\n</g>\n<!-- 5&#45;&gt;11 -->\n<g id=\"edge11\" class=\"edge\">\n<title>5&#45;&gt;11</title>\n<path fill=\"none\" stroke=\"#0000ff\" d=\"M881.832,-87.3943C872.1263,-74.9767 858.9611,-58.1329 848.0318,-44.1498\"/>\n<polygon fill=\"#0000ff\" stroke=\"#0000ff\" points=\"850.4824,-41.6017 841.5666,-35.8782 844.9672,-45.9124 850.4824,-41.6017\"/>\n<text text-anchor=\"middle\" x=\"902.0928\" y=\"-57.8\" font-family=\"Times,serif\" font-size=\"14.00\" fill=\"#000000\">yes, missing</text>\n</g>\n<!-- 12 -->\n<g id=\"node13\" class=\"node\">\n<title>12</title>\n<ellipse fill=\"none\" stroke=\"#000000\" cx=\"1008.5928\" cy=\"-18\" rx=\"83.3857\" ry=\"18\"/>\n<text text-anchor=\"middle\" x=\"1008.5928\" y=\"-14.3\" font-family=\"Times,serif\" font-size=\"14.00\" fill=\"#000000\">leaf=&#45;0.103207909</text>\n</g>\n<!-- 5&#45;&gt;12 -->\n<g id=\"edge12\" class=\"edge\">\n<title>5&#45;&gt;12</title>\n<path fill=\"none\" stroke=\"#ff0000\" d=\"M916.8473,-88.636C934.077,-75.3706 958.5877,-56.4995 977.9407,-41.5995\"/>\n<polygon fill=\"#ff0000\" stroke=\"#ff0000\" points=\"980.0943,-44.3586 985.8828,-35.4848 975.8239,-38.812 980.0943,-44.3586\"/>\n<text text-anchor=\"middle\" x=\"967.5928\" y=\"-57.8\" font-family=\"Times,serif\" font-size=\"14.00\" fill=\"#000000\">no</text>\n</g>\n<!-- 13 -->\n<g id=\"node14\" class=\"node\">\n<title>13</title>\n<ellipse fill=\"none\" stroke=\"#000000\" cx=\"1192.5928\" cy=\"-18\" rx=\"83.3857\" ry=\"18\"/>\n<text text-anchor=\"middle\" x=\"1192.5928\" y=\"-14.3\" font-family=\"Times,serif\" font-size=\"14.00\" fill=\"#000000\">leaf=&#45;0.023267353</text>\n</g>\n<!-- 6&#45;&gt;13 -->\n<g id=\"edge13\" class=\"edge\">\n<title>6&#45;&gt;13</title>\n<path fill=\"none\" stroke=\"#0000ff\" d=\"M1192.5928,-86.9735C1192.5928,-75.1918 1192.5928,-59.5607 1192.5928,-46.1581\"/>\n<polygon fill=\"#0000ff\" stroke=\"#0000ff\" points=\"1196.0929,-46.0033 1192.5928,-36.0034 1189.0929,-46.0034 1196.0929,-46.0033\"/>\n<text text-anchor=\"middle\" x=\"1228.0928\" y=\"-57.8\" font-family=\"Times,serif\" font-size=\"14.00\" fill=\"#000000\">yes, missing</text>\n</g>\n<!-- 14 -->\n<g id=\"node15\" class=\"node\">\n<title>14</title>\n<ellipse fill=\"none\" stroke=\"#000000\" cx=\"1371.5928\" cy=\"-18\" rx=\"77.9862\" ry=\"18\"/>\n<text text-anchor=\"middle\" x=\"1371.5928\" y=\"-14.3\" font-family=\"Times,serif\" font-size=\"14.00\" fill=\"#000000\">leaf=&#45;0.15201132</text>\n</g>\n<!-- 6&#45;&gt;14 -->\n<g id=\"edge14\" class=\"edge\">\n<title>6&#45;&gt;14</title>\n<path fill=\"none\" stroke=\"#ff0000\" d=\"M1226.9721,-88.5725C1239.7398,-82.4521 1254.3385,-75.4308 1267.5928,-69 1287.8686,-59.1626 1310.3224,-48.1647 1329.1618,-38.9076\"/>\n<polygon fill=\"#ff0000\" stroke=\"#ff0000\" points=\"1330.9435,-41.9318 1338.3731,-34.3786 1327.8549,-35.65 1330.9435,-41.9318\"/>\n<text text-anchor=\"middle\" x=\"1303.5928\" y=\"-57.8\" font-family=\"Times,serif\" font-size=\"14.00\" fill=\"#000000\">no</text>\n</g>\n</g>\n</svg>\n"
          },
          "metadata": {
            "tags": []
          },
          "execution_count": 50
        }
      ]
    },
    {
      "cell_type": "markdown",
      "metadata": {
        "id": "klQkvncrkOKk",
        "colab_type": "text"
      },
      "source": [
        "### 2. XGBoost 사이킷런 래퍼 클래스\n",
        "\n",
        "- fit(), predict() 사용 가능\n",
        "- 알고리즘 클래스만 변경 가능 (**XGBClassifier, XGBRegressor**)\n",
        "- eta → learning_rate\n",
        "- sub_sample → subsample\n",
        "- lambda → reg_lambda\n",
        "- alpha → reg_alpha\n"
      ]
    },
    {
      "cell_type": "code",
      "metadata": {
        "id": "HrY_iAYFlBTj",
        "colab_type": "code",
        "colab": {}
      },
      "source": [
        "from xgboost import XGBClassifier \n",
        "\n",
        "xgb_wrapper = XGBClassifier(n_estimators=400, learning_rate=0.1, max_depth=3)\n",
        "evals = [(X_test, y_test)] # evaluation set (temp)\n",
        "xgb_wrapper.fit(X_train, y_train, early_stopping_rounds=100, eval_metric=\"logloss\", eval_set=evals, verbose=True)      ## train\n",
        "w_preds = xgb_wrapper.predict(X_test)  ## predict\n",
        "w_pred_proba = xgb_wrapper.predict_proba(X_test)[:,1]   ## predict (probability)"
      ],
      "execution_count": null,
      "outputs": []
    },
    {
      "cell_type": "code",
      "metadata": {
        "id": "YSct84UVmBDx",
        "colab_type": "code",
        "colab": {
          "base_uri": "https://localhost:8080/",
          "height": 70
        },
        "outputId": "3669fb6f-62e9-4a3c-dcb4-daa8ba25584e"
      },
      "source": [
        "get_clf_eval(y_test, w_preds, w_pred_proba)"
      ],
      "execution_count": 55,
      "outputs": [
        {
          "output_type": "stream",
          "text": [
            "[[46  1]\n",
            " [ 0 67]]\n",
            "accuracy:0.9912, precision:0.9853, recall:1.0000, F1: 0.992593,UC:0.9990\n"
          ],
          "name": "stdout"
        }
      ]
    },
    {
      "cell_type": "markdown",
      "metadata": {
        "id": "dBpKroXdm9ft",
        "colab_type": "text"
      },
      "source": [
        "plot_importance() 똑같이 사용 가능\n"
      ]
    },
    {
      "cell_type": "code",
      "metadata": {
        "id": "RjoybGV8msj2",
        "colab_type": "code",
        "colab": {
          "base_uri": "https://localhost:8080/",
          "height": 748
        },
        "outputId": "68ea854d-ba57-424a-9ead-fdb1b5b86b12"
      },
      "source": [
        "from xgboost import plot_importance\n",
        "import matplotlib.pyplot as plt\n",
        "%matplotlib inline\n",
        "\n",
        "fig, ax = plt.subplots(figsize=(10,12))\n",
        "plot_importance(xgb_wrapper, ax=ax)"
      ],
      "execution_count": 57,
      "outputs": [
        {
          "output_type": "execute_result",
          "data": {
            "text/plain": [
              "<matplotlib.axes._subplots.AxesSubplot at 0x7f1452535828>"
            ]
          },
          "metadata": {
            "tags": []
          },
          "execution_count": 57
        },
        {
          "output_type": "display_data",
          "data": {
            "image/png": "[encoded data removed]",
            "text/plain": [
              "<Figure size 720x864 with 1 Axes>"
            ]
          },
          "metadata": {
            "tags": [],
            "needs_background": "light"
          }
        }
      ]
    }
  ]
}